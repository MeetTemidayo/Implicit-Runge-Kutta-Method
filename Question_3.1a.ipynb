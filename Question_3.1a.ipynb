{
 "cells": [
  {
   "cell_type": "markdown",
   "id": "688ed418",
   "metadata": {},
   "source": [
    "# Exercise 1a \n",
    "\n",
    "## Part I\n",
    "## Implicit Midpoint Rule"
   ]
  },
  {
   "cell_type": "markdown",
   "id": "05a9e818",
   "metadata": {},
   "source": [
    "The implicit midpoint method is given by the formula \n",
    "$$y_{n+1} = y_n + hf(t_n + 0.5*h, 0.5 * (y_n + y_{n+1}))$$"
   ]
  },
  {
   "cell_type": "markdown",
   "id": "a4c62da4",
   "metadata": {},
   "source": [
    "Where $$t_{n+1} = t_n + h$$"
   ]
  },
  {
   "cell_type": "code",
   "execution_count": 1,
   "id": "c5e624cb",
   "metadata": {},
   "outputs": [],
   "source": [
    "from math import exp, sqrt\n",
    "import numpy as np\n",
    "from scipy.optimize import fsolve\n",
    "import matplotlib.pyplot as plt\n",
    "import platform\n",
    "import warnings\n",
    "warnings.filterwarnings(\"ignore\")"
   ]
  },
  {
   "cell_type": "code",
   "execution_count": 2,
   "id": "4c73ee67",
   "metadata": {},
   "outputs": [],
   "source": [
    "# Visualize output using a log-log plot\n",
    "def visualize(plot_x, plot_y, exact_y):\n",
    "    fig, ax = plt.subplots(figsize=(8, 6))\n",
    "    ax.loglog(plot_x, plot_y, 'ro', plot_x, exact_y)\n",
    "    ax.set_xlabel('x', fontsize = 15)\n",
    "    ax.set_ylabel('f(x)', fontsize = 15)\n",
    "    ax.legend([\"Implicit Midpoint\", \"Analytical Solution\"])"
   ]
  },
  {
   "cell_type": "code",
   "execution_count": 3,
   "id": "6adb4204",
   "metadata": {},
   "outputs": [],
   "source": [
    "# Return a representation of the differential equation\n",
    "def derivative(x, y):\n",
    "    return -2 * y"
   ]
  },
  {
   "cell_type": "code",
   "execution_count": 4,
   "id": "17cf4f6d",
   "metadata": {},
   "outputs": [],
   "source": [
    "# Return the exact solution of the differential equation\n",
    "def exact_solution(x, y):\n",
    "    return exp(-x*2)"
   ]
  },
  {
   "cell_type": "code",
   "execution_count": 5,
   "id": "c1264b3c",
   "metadata": {},
   "outputs": [],
   "source": [
    "def main(x, y, h):\n",
    "    x = [x]\n",
    "    y = [y]\n",
    "    exact_y = [y]\n",
    "    i = 1\n",
    "    y_0 = 0\n",
    "    \n",
    "    def solver(y_n):\n",
    "        return y[i-1] - y_n + h * derivative(x[i-1]+h/2, (y[i-1]+y_n)/2)\n",
    "    \n",
    "    while i < 30:\n",
    "        x_temp = x[i-1] + h\n",
    "        y_temp = fsolve(solver, y[i-1])\n",
    "        \n",
    "        exact_y.append(exact_solution(x[i-1], y[i-1]))\n",
    "        \n",
    "        x.append(x_temp)\n",
    "        y.append(y_temp)\n",
    "        i += 1\n",
    "    \n",
    "    print('Python version: %s' % (platform.python_version()))\n",
    "    return x, y, exact_y"
   ]
  },
  {
   "cell_type": "code",
   "execution_count": 6,
   "id": "cf2be5c3",
   "metadata": {
    "scrolled": false
   },
   "outputs": [
    {
     "name": "stdout",
     "output_type": "stream",
     "text": [
      "Python version: 3.7.6\n"
     ]
    },
    {
     "data": {
      "image/png": "[encoded data removed]",
      "text/plain": [
       "<Figure size 576x432 with 1 Axes>"
      ]
     },
     "metadata": {
      "needs_background": "light"
     },
     "output_type": "display_data"
    }
   ],
   "source": [
    "if __name__ == \"__main__\":\n",
    "    x = 0\n",
    "    y = 1\n",
    "    h = 0.2\n",
    "    plot_x, plot_y, exact_y = main(x, y, h)\n",
    "    visualize(plot_x, plot_y, exact_y[0]);"
   ]
  },
  {
   "cell_type": "code",
   "execution_count": null,
   "id": "fa87902b",
   "metadata": {},
   "outputs": [],
   "source": []
  },
  {
   "cell_type": "code",
   "execution_count": null,
   "id": "cb1dce24",
   "metadata": {},
   "outputs": [],
   "source": []
  },
  {
   "cell_type": "markdown",
   "id": "1b5b6819",
   "metadata": {},
   "source": [
    "## Part II\n",
    "\n",
    "## Two Stage Gauss Method"
   ]
  },
  {
   "cell_type": "markdown",
   "id": "2b6bd733",
   "metadata": {},
   "source": [
    "The Gauss–Legendre method of order four also known as the two stage Gauss method is given by the formula below \n",
    "\n",
    "$$k1 = hf(y_n + (1/4)*k1 + (1/4 - (√3)/6)*k2, x_n + (1/2 - (√3)/6)*h)$$\n",
    "\n",
    "$$k2 = hf(y_n + (1/4)*k2 + (1/4 + (√3)/6)*k1, x_n + (1/2 + (√3)/6)*h)$$\n",
    "\n",
    "$$y_n+1 = y+n + (1/2)*k1 + (1/2)*k2$$"
   ]
  },
  {
   "cell_type": "code",
   "execution_count": 7,
   "id": "c8b7eb64",
   "metadata": {},
   "outputs": [],
   "source": [
    "# Visualize output using a log-log plot\n",
    "def visualize(plot_x, plot_y, exact_y):\n",
    "    fig, ax = plt.subplots(figsize=(8, 6))\n",
    "    ax.loglog(plot_x, plot_y, 'ro', plot_x, exact_y)\n",
    "    ax.set_xlabel('x', fontsize = 15)\n",
    "    ax.set_ylabel('f(x)', fontsize = 15)\n",
    "    ax.legend([\"Gauss Method\", \"Analytical Solution\"])"
   ]
  },
  {
   "cell_type": "code",
   "execution_count": 8,
   "id": "c4977aa8",
   "metadata": {},
   "outputs": [],
   "source": [
    "# Return a representation of the differential equation\n",
    "def derivative(x, y):\n",
    "    return -2 * y"
   ]
  },
  {
   "cell_type": "code",
   "execution_count": 9,
   "id": "73bc96c2",
   "metadata": {},
   "outputs": [],
   "source": [
    "# Return the exact solution of the differential equation\n",
    "def exact_solution(x, y):\n",
    "    return exp(-x*2)"
   ]
  },
  {
   "cell_type": "code",
   "execution_count": 10,
   "id": "91fea2a9",
   "metadata": {},
   "outputs": [],
   "source": [
    "def main(x, y, h):\n",
    "    x = [x]\n",
    "    y = [y]\n",
    "    exact_y = [y]\n",
    "    i = 1\n",
    "    y_0 = 0\n",
    "    \n",
    "    def solver(p):\n",
    "        k1, k2 = p\n",
    "        return (\n",
    "            k1 - h*derivative(x[i-1]+(1/2-((sqrt(3)/6))*h), y[i-1]+(1/4)*k1+((1/4-((sqrt(3)/6))*k2))),\n",
    "            k2 - h*derivative(x[i-1]+(1/2+((sqrt(3)/6))*h), y[i-1]+(1/4)*k2+((1/4+((sqrt(3)/6))*k1)))\n",
    "        )\n",
    "    \n",
    "    while i < 10:\n",
    "        x_temp = x[i-1] + h\n",
    "\n",
    "        k1, k2 = fsolve(solver, (1, 1))\n",
    "\n",
    "        y_temp = y[i-1] + 0.5*k1 + 0.5*k2\n",
    "        \n",
    "        x.append(x_temp)\n",
    "        y.append(y_temp)\n",
    "        exact_y.append(exact_solution(x[i-1], y[i-1]))\n",
    "        i += 1\n",
    "    \n",
    "    print('Python version: %s' % (platform.python_version()))\n",
    "    return x, y, exact_y"
   ]
  },
  {
   "cell_type": "code",
   "execution_count": 11,
   "id": "5aa0710a",
   "metadata": {
    "scrolled": false
   },
   "outputs": [
    {
     "name": "stdout",
     "output_type": "stream",
     "text": [
      "Python version: 3.7.6\n"
     ]
    },
    {
     "data": {
      "image/png": "[encoded data removed]",
      "text/plain": [
       "<Figure size 576x432 with 1 Axes>"
      ]
     },
     "metadata": {
      "needs_background": "light"
     },
     "output_type": "display_data"
    }
   ],
   "source": [
    "if __name__ == \"__main__\":\n",
    "    x = 0\n",
    "    y = 1\n",
    "    h = 0.1\n",
    "    plot_x, plot_y, exact_y = main(x, y, h)\n",
    "    visualize(plot_x, plot_y, exact_y[0]);"
   ]
  }
 ],
 "metadata": {
  "kernelspec": {
   "display_name": "Python [conda env:root] *",
   "language": "python",
   "name": "conda-root-py"
  },
  "language_info": {
   "codemirror_mode": {
    "name": "ipython",
    "version": 3
   },
   "file_extension": ".py",
   "mimetype": "text/x-python",
   "name": "python",
   "nbconvert_exporter": "python",
   "pygments_lexer": "ipython3",
   "version": "3.7.6"
  }
 },
 "nbformat": 4,
 "nbformat_minor": 5
}
