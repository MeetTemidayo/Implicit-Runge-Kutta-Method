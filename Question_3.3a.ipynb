{
 "cells": [
  {
   "cell_type": "markdown",
   "id": "cb776649",
   "metadata": {},
   "source": [
    "## Exercise 3.3a"
   ]
  },
  {
   "cell_type": "code",
   "execution_count": 37,
   "id": "62aae537",
   "metadata": {},
   "outputs": [],
   "source": [
    "def implicit_midpoint_two_stage_gauss(f, t0, y0, h, tol):\n",
    "    A = np.array([[1/4, 1/4-np.sqrt(3)/6], [1/4+np.sqrt(3)/6, 1/4]])\n",
    "    b = np.array([1/2, 1/2])\n",
    "    while t0 < T:\n",
    "        k1 = f(t0, y0)\n",
    "        k2 = f(t0+h/2, y0+h*A.dot(k1)/2)\n",
    "        y1 = y0 + h*b.dot(k2)\n",
    "        error = np.linalg.norm(y1 - (y0 + h*b.dot(k1)), ord=np.inf)\n",
    "        if error < tol:\n",
    "            t0 += h\n",
    "            y0 = y1\n",
    "            h *= 2\n",
    "        else:\n",
    "            h *= 0.9 * (tol / error) ** (1/2)\n",
    "    return t0, y0"
   ]
  }
 ],
 "metadata": {
  "kernelspec": {
   "display_name": "Python 3",
   "language": "python",
   "name": "python3"
  },
  "language_info": {
   "codemirror_mode": {
    "name": "ipython",
    "version": 3
   },
   "file_extension": ".py",
   "mimetype": "text/x-python",
   "name": "python",
   "nbconvert_exporter": "python",
   "pygments_lexer": "ipython3",
   "version": "3.8.8"
  }
 },
 "nbformat": 4,
 "nbformat_minor": 5
}
